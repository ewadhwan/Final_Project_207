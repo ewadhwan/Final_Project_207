{
  "nbformat": 4,
  "nbformat_minor": 0,
  "metadata": {
    "colab": {
      "provenance": []
    },
    "kernelspec": {
      "name": "python3",
      "display_name": "Python 3"
    },
    "language_info": {
      "name": "python"
    }
  },
  "cells": [
    {
      "cell_type": "markdown",
      "source": [
        "#### Imports"
      ],
      "metadata": {
        "id": "Rn0Vc1d-C7Nq"
      }
    },
    {
      "cell_type": "code",
      "execution_count": null,
      "metadata": {
        "colab": {
          "base_uri": "https://localhost:8080/"
        },
        "id": "ekRwtS8pC2p3",
        "outputId": "99562ef7-e505-4026-acc4-a92954593c62"
      },
      "outputs": [
        {
          "output_type": "stream",
          "name": "stdout",
          "text": [
            "Drive already mounted at /content/drive; to attempt to forcibly remount, call drive.mount(\"/content/drive\", force_remount=True).\n"
          ]
        }
      ],
      "source": [
        "import pandas as pd\n",
        "import numpy as np\n",
        "import math\n",
        "import tensorflow as tf\n",
        "\n",
        "from sklearn.tree import DecisionTreeClassifier\n",
        "from sklearn.ensemble import RandomForestClassifier\n",
        "from sklearn.linear_model import LogisticRegression\n",
        "from sklearn.neighbors import KNeighborsClassifier\n",
        "from sklearn.metrics import accuracy_score,f1_score,precision_score,recall_score\n",
        "from sklearn.metrics import confusion_matrix, ConfusionMatrixDisplay\n",
        "from keras import metrics\n",
        "import matplotlib.pyplot as plt\n",
        "\n",
        "from google.colab import drive\n",
        "drive.mount('/content/drive')"
      ]
    },
    {
      "cell_type": "markdown",
      "source": [
        "### Read in Data"
      ],
      "metadata": {
        "id": "QYUZjImZC-4R"
      }
    },
    {
      "cell_type": "markdown",
      "source": [
        "Data is found at: https://archive.ics.uci.edu/dataset/697/predict+students+dropout+and+academic+success. To read in the dataset below, please download the data and add it to the runtime files or your google drive. Please update google drive and filename when reading in the datafile."
      ],
      "metadata": {
        "id": "lF_g8kyUDRNg"
      }
    },
    {
      "cell_type": "code",
      "source": [
        "#update google drive path as needed\n",
        "d = pd.read_csv('/content/drive/MyDrive/DS207/data/final project/dataset.csv')\n",
        "\n",
        "#update filename as needed\n",
        "# d = pd.read_csv('dataset.csv')\n",
        "d.head()"
      ],
      "metadata": {
        "colab": {
          "base_uri": "https://localhost:8080/",
          "height": 304
        },
        "id": "W7ajj7P6C-XT",
        "outputId": "4fcbd322-409f-4876-8465-d6be572960d0"
      },
      "execution_count": null,
      "outputs": [
        {
          "output_type": "execute_result",
          "data": {
            "text/plain": [
              "   Marital status  Application mode  Application order  Course  \\\n",
              "0               1                 8                  5       2   \n",
              "1               1                 6                  1      11   \n",
              "2               1                 1                  5       5   \n",
              "3               1                 8                  2      15   \n",
              "4               2                12                  1       3   \n",
              "\n",
              "   Daytime/evening attendance  Previous qualification  Nacionality  \\\n",
              "0                           1                       1            1   \n",
              "1                           1                       1            1   \n",
              "2                           1                       1            1   \n",
              "3                           1                       1            1   \n",
              "4                           0                       1            1   \n",
              "\n",
              "   Mother's qualification  Father's qualification  Mother's occupation  ...  \\\n",
              "0                      13                      10                    6  ...   \n",
              "1                       1                       3                    4  ...   \n",
              "2                      22                      27                   10  ...   \n",
              "3                      23                      27                    6  ...   \n",
              "4                      22                      28                   10  ...   \n",
              "\n",
              "   Curricular units 2nd sem (credited)  Curricular units 2nd sem (enrolled)  \\\n",
              "0                                    0                                    0   \n",
              "1                                    0                                    6   \n",
              "2                                    0                                    6   \n",
              "3                                    0                                    6   \n",
              "4                                    0                                    6   \n",
              "\n",
              "   Curricular units 2nd sem (evaluations)  \\\n",
              "0                                       0   \n",
              "1                                       6   \n",
              "2                                       0   \n",
              "3                                      10   \n",
              "4                                       6   \n",
              "\n",
              "   Curricular units 2nd sem (approved)  Curricular units 2nd sem (grade)  \\\n",
              "0                                    0                          0.000000   \n",
              "1                                    6                         13.666667   \n",
              "2                                    0                          0.000000   \n",
              "3                                    5                         12.400000   \n",
              "4                                    6                         13.000000   \n",
              "\n",
              "   Curricular units 2nd sem (without evaluations)  Unemployment rate  \\\n",
              "0                                               0               10.8   \n",
              "1                                               0               13.9   \n",
              "2                                               0               10.8   \n",
              "3                                               0                9.4   \n",
              "4                                               0               13.9   \n",
              "\n",
              "   Inflation rate   GDP    Target  \n",
              "0             1.4  1.74   Dropout  \n",
              "1            -0.3  0.79  Graduate  \n",
              "2             1.4  1.74   Dropout  \n",
              "3            -0.8 -3.12  Graduate  \n",
              "4            -0.3  0.79  Graduate  \n",
              "\n",
              "[5 rows x 35 columns]"
            ],
            "text/html": [
              "\n",
              "  <div id=\"df-45508a4c-3c14-45aa-8fe8-0e96227dd7e9\" class=\"colab-df-container\">\n",
              "    <div>\n",
              "<style scoped>\n",
              "    .dataframe tbody tr th:only-of-type {\n",
              "        vertical-align: middle;\n",
              "    }\n",
              "\n",
              "    .dataframe tbody tr th {\n",
              "        vertical-align: top;\n",
              "    }\n",
              "\n",
              "    .dataframe thead th {\n",
              "        text-align: right;\n",
              "    }\n",
              "</style>\n",
              "<table border=\"1\" class=\"dataframe\">\n",
              "  <thead>\n",
              "    <tr style=\"text-align: right;\">\n",
              "      <th></th>\n",
              "      <th>Marital status</th>\n",
              "      <th>Application mode</th>\n",
              "      <th>Application order</th>\n",
              "      <th>Course</th>\n",
              "      <th>Daytime/evening attendance</th>\n",
              "      <th>Previous qualification</th>\n",
              "      <th>Nacionality</th>\n",
              "      <th>Mother's qualification</th>\n",
              "      <th>Father's qualification</th>\n",
              "      <th>Mother's occupation</th>\n",
              "      <th>...</th>\n",
              "      <th>Curricular units 2nd sem (credited)</th>\n",
              "      <th>Curricular units 2nd sem (enrolled)</th>\n",
              "      <th>Curricular units 2nd sem (evaluations)</th>\n",
              "      <th>Curricular units 2nd sem (approved)</th>\n",
              "      <th>Curricular units 2nd sem (grade)</th>\n",
              "      <th>Curricular units 2nd sem (without evaluations)</th>\n",
              "      <th>Unemployment rate</th>\n",
              "      <th>Inflation rate</th>\n",
              "      <th>GDP</th>\n",
              "      <th>Target</th>\n",
              "    </tr>\n",
              "  </thead>\n",
              "  <tbody>\n",
              "    <tr>\n",
              "      <th>0</th>\n",
              "      <td>1</td>\n",
              "      <td>8</td>\n",
              "      <td>5</td>\n",
              "      <td>2</td>\n",
              "      <td>1</td>\n",
              "      <td>1</td>\n",
              "      <td>1</td>\n",
              "      <td>13</td>\n",
              "      <td>10</td>\n",
              "      <td>6</td>\n",
              "      <td>...</td>\n",
              "      <td>0</td>\n",
              "      <td>0</td>\n",
              "      <td>0</td>\n",
              "      <td>0</td>\n",
              "      <td>0.000000</td>\n",
              "      <td>0</td>\n",
              "      <td>10.8</td>\n",
              "      <td>1.4</td>\n",
              "      <td>1.74</td>\n",
              "      <td>Dropout</td>\n",
              "    </tr>\n",
              "    <tr>\n",
              "      <th>1</th>\n",
              "      <td>1</td>\n",
              "      <td>6</td>\n",
              "      <td>1</td>\n",
              "      <td>11</td>\n",
              "      <td>1</td>\n",
              "      <td>1</td>\n",
              "      <td>1</td>\n",
              "      <td>1</td>\n",
              "      <td>3</td>\n",
              "      <td>4</td>\n",
              "      <td>...</td>\n",
              "      <td>0</td>\n",
              "      <td>6</td>\n",
              "      <td>6</td>\n",
              "      <td>6</td>\n",
              "      <td>13.666667</td>\n",
              "      <td>0</td>\n",
              "      <td>13.9</td>\n",
              "      <td>-0.3</td>\n",
              "      <td>0.79</td>\n",
              "      <td>Graduate</td>\n",
              "    </tr>\n",
              "    <tr>\n",
              "      <th>2</th>\n",
              "      <td>1</td>\n",
              "      <td>1</td>\n",
              "      <td>5</td>\n",
              "      <td>5</td>\n",
              "      <td>1</td>\n",
              "      <td>1</td>\n",
              "      <td>1</td>\n",
              "      <td>22</td>\n",
              "      <td>27</td>\n",
              "      <td>10</td>\n",
              "      <td>...</td>\n",
              "      <td>0</td>\n",
              "      <td>6</td>\n",
              "      <td>0</td>\n",
              "      <td>0</td>\n",
              "      <td>0.000000</td>\n",
              "      <td>0</td>\n",
              "      <td>10.8</td>\n",
              "      <td>1.4</td>\n",
              "      <td>1.74</td>\n",
              "      <td>Dropout</td>\n",
              "    </tr>\n",
              "    <tr>\n",
              "      <th>3</th>\n",
              "      <td>1</td>\n",
              "      <td>8</td>\n",
              "      <td>2</td>\n",
              "      <td>15</td>\n",
              "      <td>1</td>\n",
              "      <td>1</td>\n",
              "      <td>1</td>\n",
              "      <td>23</td>\n",
              "      <td>27</td>\n",
              "      <td>6</td>\n",
              "      <td>...</td>\n",
              "      <td>0</td>\n",
              "      <td>6</td>\n",
              "      <td>10</td>\n",
              "      <td>5</td>\n",
              "      <td>12.400000</td>\n",
              "      <td>0</td>\n",
              "      <td>9.4</td>\n",
              "      <td>-0.8</td>\n",
              "      <td>-3.12</td>\n",
              "      <td>Graduate</td>\n",
              "    </tr>\n",
              "    <tr>\n",
              "      <th>4</th>\n",
              "      <td>2</td>\n",
              "      <td>12</td>\n",
              "      <td>1</td>\n",
              "      <td>3</td>\n",
              "      <td>0</td>\n",
              "      <td>1</td>\n",
              "      <td>1</td>\n",
              "      <td>22</td>\n",
              "      <td>28</td>\n",
              "      <td>10</td>\n",
              "      <td>...</td>\n",
              "      <td>0</td>\n",
              "      <td>6</td>\n",
              "      <td>6</td>\n",
              "      <td>6</td>\n",
              "      <td>13.000000</td>\n",
              "      <td>0</td>\n",
              "      <td>13.9</td>\n",
              "      <td>-0.3</td>\n",
              "      <td>0.79</td>\n",
              "      <td>Graduate</td>\n",
              "    </tr>\n",
              "  </tbody>\n",
              "</table>\n",
              "<p>5 rows × 35 columns</p>\n",
              "</div>\n",
              "    <div class=\"colab-df-buttons\">\n",
              "\n",
              "  <div class=\"colab-df-container\">\n",
              "    <button class=\"colab-df-convert\" onclick=\"convertToInteractive('df-45508a4c-3c14-45aa-8fe8-0e96227dd7e9')\"\n",
              "            title=\"Convert this dataframe to an interactive table.\"\n",
              "            style=\"display:none;\">\n",
              "\n",
              "  <svg xmlns=\"http://www.w3.org/2000/svg\" height=\"24px\" viewBox=\"0 -960 960 960\">\n",
              "    <path d=\"M120-120v-720h720v720H120Zm60-500h600v-160H180v160Zm220 220h160v-160H400v160Zm0 220h160v-160H400v160ZM180-400h160v-160H180v160Zm440 0h160v-160H620v160ZM180-180h160v-160H180v160Zm440 0h160v-160H620v160Z\"/>\n",
              "  </svg>\n",
              "    </button>\n",
              "\n",
              "  <style>\n",
              "    .colab-df-container {\n",
              "      display:flex;\n",
              "      gap: 12px;\n",
              "    }\n",
              "\n",
              "    .colab-df-convert {\n",
              "      background-color: #E8F0FE;\n",
              "      border: none;\n",
              "      border-radius: 50%;\n",
              "      cursor: pointer;\n",
              "      display: none;\n",
              "      fill: #1967D2;\n",
              "      height: 32px;\n",
              "      padding: 0 0 0 0;\n",
              "      width: 32px;\n",
              "    }\n",
              "\n",
              "    .colab-df-convert:hover {\n",
              "      background-color: #E2EBFA;\n",
              "      box-shadow: 0px 1px 2px rgba(60, 64, 67, 0.3), 0px 1px 3px 1px rgba(60, 64, 67, 0.15);\n",
              "      fill: #174EA6;\n",
              "    }\n",
              "\n",
              "    .colab-df-buttons div {\n",
              "      margin-bottom: 4px;\n",
              "    }\n",
              "\n",
              "    [theme=dark] .colab-df-convert {\n",
              "      background-color: #3B4455;\n",
              "      fill: #D2E3FC;\n",
              "    }\n",
              "\n",
              "    [theme=dark] .colab-df-convert:hover {\n",
              "      background-color: #434B5C;\n",
              "      box-shadow: 0px 1px 3px 1px rgba(0, 0, 0, 0.15);\n",
              "      filter: drop-shadow(0px 1px 2px rgba(0, 0, 0, 0.3));\n",
              "      fill: #FFFFFF;\n",
              "    }\n",
              "  </style>\n",
              "\n",
              "    <script>\n",
              "      const buttonEl =\n",
              "        document.querySelector('#df-45508a4c-3c14-45aa-8fe8-0e96227dd7e9 button.colab-df-convert');\n",
              "      buttonEl.style.display =\n",
              "        google.colab.kernel.accessAllowed ? 'block' : 'none';\n",
              "\n",
              "      async function convertToInteractive(key) {\n",
              "        const element = document.querySelector('#df-45508a4c-3c14-45aa-8fe8-0e96227dd7e9');\n",
              "        const dataTable =\n",
              "          await google.colab.kernel.invokeFunction('convertToInteractive',\n",
              "                                                    [key], {});\n",
              "        if (!dataTable) return;\n",
              "\n",
              "        const docLinkHtml = 'Like what you see? Visit the ' +\n",
              "          '<a target=\"_blank\" href=https://colab.research.google.com/notebooks/data_table.ipynb>data table notebook</a>'\n",
              "          + ' to learn more about interactive tables.';\n",
              "        element.innerHTML = '';\n",
              "        dataTable['output_type'] = 'display_data';\n",
              "        await google.colab.output.renderOutput(dataTable, element);\n",
              "        const docLink = document.createElement('div');\n",
              "        docLink.innerHTML = docLinkHtml;\n",
              "        element.appendChild(docLink);\n",
              "      }\n",
              "    </script>\n",
              "  </div>\n",
              "\n",
              "\n",
              "<div id=\"df-8176161b-f6b5-47d2-b933-07288b7be081\">\n",
              "  <button class=\"colab-df-quickchart\" onclick=\"quickchart('df-8176161b-f6b5-47d2-b933-07288b7be081')\"\n",
              "            title=\"Suggest charts\"\n",
              "            style=\"display:none;\">\n",
              "\n",
              "<svg xmlns=\"http://www.w3.org/2000/svg\" height=\"24px\"viewBox=\"0 0 24 24\"\n",
              "     width=\"24px\">\n",
              "    <g>\n",
              "        <path d=\"M19 3H5c-1.1 0-2 .9-2 2v14c0 1.1.9 2 2 2h14c1.1 0 2-.9 2-2V5c0-1.1-.9-2-2-2zM9 17H7v-7h2v7zm4 0h-2V7h2v10zm4 0h-2v-4h2v4z\"/>\n",
              "    </g>\n",
              "</svg>\n",
              "  </button>\n",
              "\n",
              "<style>\n",
              "  .colab-df-quickchart {\n",
              "      --bg-color: #E8F0FE;\n",
              "      --fill-color: #1967D2;\n",
              "      --hover-bg-color: #E2EBFA;\n",
              "      --hover-fill-color: #174EA6;\n",
              "      --disabled-fill-color: #AAA;\n",
              "      --disabled-bg-color: #DDD;\n",
              "  }\n",
              "\n",
              "  [theme=dark] .colab-df-quickchart {\n",
              "      --bg-color: #3B4455;\n",
              "      --fill-color: #D2E3FC;\n",
              "      --hover-bg-color: #434B5C;\n",
              "      --hover-fill-color: #FFFFFF;\n",
              "      --disabled-bg-color: #3B4455;\n",
              "      --disabled-fill-color: #666;\n",
              "  }\n",
              "\n",
              "  .colab-df-quickchart {\n",
              "    background-color: var(--bg-color);\n",
              "    border: none;\n",
              "    border-radius: 50%;\n",
              "    cursor: pointer;\n",
              "    display: none;\n",
              "    fill: var(--fill-color);\n",
              "    height: 32px;\n",
              "    padding: 0;\n",
              "    width: 32px;\n",
              "  }\n",
              "\n",
              "  .colab-df-quickchart:hover {\n",
              "    background-color: var(--hover-bg-color);\n",
              "    box-shadow: 0 1px 2px rgba(60, 64, 67, 0.3), 0 1px 3px 1px rgba(60, 64, 67, 0.15);\n",
              "    fill: var(--button-hover-fill-color);\n",
              "  }\n",
              "\n",
              "  .colab-df-quickchart-complete:disabled,\n",
              "  .colab-df-quickchart-complete:disabled:hover {\n",
              "    background-color: var(--disabled-bg-color);\n",
              "    fill: var(--disabled-fill-color);\n",
              "    box-shadow: none;\n",
              "  }\n",
              "\n",
              "  .colab-df-spinner {\n",
              "    border: 2px solid var(--fill-color);\n",
              "    border-color: transparent;\n",
              "    border-bottom-color: var(--fill-color);\n",
              "    animation:\n",
              "      spin 1s steps(1) infinite;\n",
              "  }\n",
              "\n",
              "  @keyframes spin {\n",
              "    0% {\n",
              "      border-color: transparent;\n",
              "      border-bottom-color: var(--fill-color);\n",
              "      border-left-color: var(--fill-color);\n",
              "    }\n",
              "    20% {\n",
              "      border-color: transparent;\n",
              "      border-left-color: var(--fill-color);\n",
              "      border-top-color: var(--fill-color);\n",
              "    }\n",
              "    30% {\n",
              "      border-color: transparent;\n",
              "      border-left-color: var(--fill-color);\n",
              "      border-top-color: var(--fill-color);\n",
              "      border-right-color: var(--fill-color);\n",
              "    }\n",
              "    40% {\n",
              "      border-color: transparent;\n",
              "      border-right-color: var(--fill-color);\n",
              "      border-top-color: var(--fill-color);\n",
              "    }\n",
              "    60% {\n",
              "      border-color: transparent;\n",
              "      border-right-color: var(--fill-color);\n",
              "    }\n",
              "    80% {\n",
              "      border-color: transparent;\n",
              "      border-right-color: var(--fill-color);\n",
              "      border-bottom-color: var(--fill-color);\n",
              "    }\n",
              "    90% {\n",
              "      border-color: transparent;\n",
              "      border-bottom-color: var(--fill-color);\n",
              "    }\n",
              "  }\n",
              "</style>\n",
              "\n",
              "  <script>\n",
              "    async function quickchart(key) {\n",
              "      const quickchartButtonEl =\n",
              "        document.querySelector('#' + key + ' button');\n",
              "      quickchartButtonEl.disabled = true;  // To prevent multiple clicks.\n",
              "      quickchartButtonEl.classList.add('colab-df-spinner');\n",
              "      try {\n",
              "        const charts = await google.colab.kernel.invokeFunction(\n",
              "            'suggestCharts', [key], {});\n",
              "      } catch (error) {\n",
              "        console.error('Error during call to suggestCharts:', error);\n",
              "      }\n",
              "      quickchartButtonEl.classList.remove('colab-df-spinner');\n",
              "      quickchartButtonEl.classList.add('colab-df-quickchart-complete');\n",
              "    }\n",
              "    (() => {\n",
              "      let quickchartButtonEl =\n",
              "        document.querySelector('#df-8176161b-f6b5-47d2-b933-07288b7be081 button');\n",
              "      quickchartButtonEl.style.display =\n",
              "        google.colab.kernel.accessAllowed ? 'block' : 'none';\n",
              "    })();\n",
              "  </script>\n",
              "</div>\n",
              "\n",
              "    </div>\n",
              "  </div>\n"
            ],
            "application/vnd.google.colaboratory.intrinsic+json": {
              "type": "dataframe",
              "variable_name": "d"
            }
          },
          "metadata": {},
          "execution_count": 16
        }
      ]
    },
    {
      "cell_type": "markdown",
      "source": [
        "### Data Cleaning"
      ],
      "metadata": {
        "id": "Ru-N5Z3-DCPo"
      }
    },
    {
      "cell_type": "code",
      "source": [
        "# Correct column names\n",
        "d.rename(columns = {'Nacionality':'Nationality', 'Target': 'Student Status'}, inplace = True)\n",
        "\n",
        "# Copy data set\n",
        "df = d.copy()\n",
        "\n",
        "# Change student status column to numeric in original data set\n",
        "d['Student Status'] = d['Student Status'].map({'Dropout' : 0, 'Enrolled': 1, 'Graduate': 2})\n",
        "\n",
        "# Get all categorical variables except Student status\n",
        "cat_cols = ['Marital status', 'Application mode', 'Application order', 'Course', 'Daytime/evening attendance',\n",
        "          'Previous qualification', 'Nationality', \"Mother's qualification\", \"Father's qualification\",\n",
        "          \"Mother's occupation\", \"Father's occupation\", 'Displaced', 'Educational special needs', 'Debtor',\n",
        "          'Tuition fees up to date', 'Gender', 'Scholarship holder', 'International']\n",
        "\n",
        "# Get all continuous variables.\n",
        "cont_cols = ['Age at enrollment', 'Curricular units 1st sem (credited)', 'Curricular units 1st sem (enrolled)',\n",
        "             'Curricular units 1st sem (evaluations)', 'Curricular units 1st sem (approved)',\n",
        "             'Curricular units 1st sem (grade)', 'Curricular units 1st sem (without evaluations)',\n",
        "             'Curricular units 2nd sem (credited)', 'Curricular units 2nd sem (enrolled)',\n",
        "             'Curricular units 2nd sem (evaluations)', 'Curricular units 2nd sem (approved)',\n",
        "             'Curricular units 2nd sem (grade)', 'Curricular units 2nd sem (without evaluations)',\n",
        "             'Unemployment rate', 'Inflation rate', 'GDP']\n",
        "\n",
        "# Change categorical columns to category datatype.\n",
        "df[cat_cols] = df[cat_cols].astype('category')\n",
        "\n",
        "# Replace 0 and 1 values with Female and Male respectively.\n",
        "df = df.replace({'Gender': {0: 'Female', 1: 'Male'}})\n",
        "\n",
        "# Replace numerical values with their verbal analogs.\n",
        "df[['Nationality']] = df[['Nationality']].replace({'Nationality': {1: 'Portuguese', 2: 'German', 3: 'Spanish',\n",
        "                                                               4: 'Italian', 5: 'Dutch', 6: 'English',\n",
        "                                                               7: 'Lithuanian', 8: 'Angolan', 9: 'Cape Verdean',\n",
        "                                                               10: 'Guinean', 11: 'Mozambican', 12: 'Santomean',\n",
        "                                                               13: 'Turkish', 14: 'Brazilian', 15: 'Romanian',\n",
        "                                                               16: 'Moldovan', 17: 'Mexican', 18: 'Ukrainian',\n",
        "                                                               19: 'Russian', 20: 'Cuban', 21: 'Colombian'}})\n",
        "\n",
        "\n",
        "# Find the optimal number of bins using Sturges’ rule.\n",
        "bins = int(math.ceil(math.log2(len(df))) + 1)\n",
        "age_min = df['Age at enrollment'].min()\n",
        "age_max = df['Age at enrollment'].max()\n",
        "bin_int = df['Age at enrollment'].max() // bins\n",
        "bin_edges = [i for i in range(age_min, age_max + bin_int, bin_int)]\n",
        "\n",
        "# Replace 1 - Single, 2 - Married, 3 - Widower, 4 - Divorced, 5 - Facto union, and 6 - Legally separated.\n",
        "df = df.replace({'Marital status': {1: 'Single', 2: 'Married', 3: 'Widower', 4: 'Divorced',\n",
        "                                    5: 'Facto union', 6: 'Legally separated'}})\n",
        "\n",
        "# Replace 0 and 1 values with Evening and daytime respectively.\n",
        "df = df.replace({'Daytime/evening attendance': {0: 'Evening', 1: 'Daytime'}})\n",
        "\n",
        "df[['Course']] = df[['Course']].replace({'Course': {1: 'Biofuel Production Technologies', 2: 'Animation and Multimedia Design',\n",
        "                                                    3: 'Social Service (evening attendance)', 4: 'Agronomy',\n",
        "                                                    5: 'Communication Design', 6: 'Veterinary Design',\n",
        "                                                    7: 'Informatics Engineering', 8: 'Equiniculture', 9: 'Management',\n",
        "                                                    10: 'Social Service', 11: 'Tourism', 12: 'Nursing', 13: 'Oral Hygiene',\n",
        "                                                    14: 'Advertising and Marketing Management',\n",
        "                                                    15: 'Journalism and Communication', 16: 'Basic Education',\n",
        "                                                    17: 'Management (evening attendance)'}})"
      ],
      "metadata": {
        "id": "in0dMDpEDD75"
      },
      "execution_count": null,
      "outputs": []
    },
    {
      "cell_type": "code",
      "source": [
        "df = df[df[\"Student Status\"] != \"Enrolled\"]\n",
        "df[\"Failed classes\"] = (df['Curricular units 1st sem (approved)'] - df['Curricular units 1st sem (enrolled)']) * (df['Curricular units 2nd sem (approved)'] - df['Curricular units 2nd sem (enrolled)'])\n",
        "\n",
        "# bin the age\n",
        "tf.keras.backend.clear_session()\n",
        "age = np.array(df['Age at enrollment'])\n",
        "age_bins = [0.1, 18, 20, 22, 25, 35]\n",
        "age_binned = tf.keras.layers.Discretization(bin_boundaries=age_bins)(age)\n",
        "df['age_binned']= age_binned\n",
        "\n",
        "# combine parent qualifications\n",
        "def parent_quals(mother_qual, father_qual):\n",
        "  #0 - both parents completed high school (1)\n",
        "  #1 - one parent completed high school (1)\n",
        "  #2 - both parent have some degree of higher education (2-8 or 39-44)\n",
        "  #3 - one parent has some higher education (2-8 or 39-44)\n",
        "  #4 - both parents did not complete high school (9-29)\n",
        "  #5 - one parent did not complete high school (9-29)\n",
        "  #6 - both parents have very little education (30, 35-38)\n",
        "  #7 - one parent has very little education (30, 35-38)\n",
        "  #8 - one or more parents unknown\n",
        "\n",
        "  # if multiple statuses overlap, choose the one with the highest education\n",
        "  joint_qual = []\n",
        "  mother_qual = np.array(mother_qual)\n",
        "  father_qual = np.array(father_qual)\n",
        "  for i in np.arange(0, len(mother_qual)):\n",
        "    if ((mother_qual)[i] == 1 and father_qual[i]==1):\n",
        "      joint_qual.append(0)\n",
        "    elif(((mother_qual)[i] == 1 or father_qual[i]==1)):\n",
        "      joint_qual.append(1)\n",
        "    elif(((mother_qual[i] >= 2 and mother_qual[i]<=8) or (mother_qual[i] >= 39 and mother_qual[i]<=44)) and (father_qual[i] >= 2 and father_qual[i]<=8) or (father_qual[i] >= 39 and father_qual[i]<=44)):\n",
        "      joint_qual.append(2)\n",
        "    elif(((mother_qual[i] >= 2 and mother_qual[i]<=8) or (mother_qual[i] >= 39 and mother_qual[i]<=44)) or (father_qual[i] >= 2 and father_qual[i]<=8) or (father_qual[i] >= 39 and father_qual[i]<=44)):\n",
        "      joint_qual.append(3)\n",
        "    elif((mother_qual[i] >= 9 and mother_qual[i]<=29) and (father_qual[i] >= 9 and father_qual[i]<=29)):\n",
        "      joint_qual.append(4)\n",
        "    elif((mother_qual[i] >= 9 and mother_qual[i]<=29) or (father_qual[i] >= 9 and father_qual[i]<=29)):\n",
        "      joint_qual.append(5)\n",
        "    elif(((mother_qual[i] == 30) or (mother_qual[i] >= 35 and mother_qual[i]<=38)) and ((father_qual[i] == 30) or (father_qual[i] >= 35 and father_qual[i]<=38))):\n",
        "      joint_qual.append(6)\n",
        "    elif(((mother_qual[i] == 30) or (mother_qual[i] >= 35 and mother_qual[i]<=38)) or ((father_qual[i] == 30) or (father_qual[i] >= 35 and father_qual[i]<=38))):\n",
        "      joint_qual.append(7)\n",
        "    else:\n",
        "      joint_qual.append(8)\n",
        "  return joint_qual\n",
        "\n",
        "\n",
        "df['parent_quals'] = parent_quals(df[\"Mother's qualification\"], df[\"Father's qualification\"])\n",
        "\n",
        "df_one_hot = pd.get_dummies(df, columns= ['Marital status', 'Application mode', 'Course', 'Daytime/evening attendance',\n",
        "                                          'Previous qualification', 'Nationality', 'age_binned', \"Mother's occupation\",\n",
        "                                          \"Father's occupation\", 'Displaced', 'Educational special needs',\n",
        "                                          'Tuition fees up to date', 'Gender', 'Scholarship holder', 'parent_quals',\n",
        "                                          'age_binned'], dtype=float)\n",
        "\n",
        "# drop unused columns\n",
        "df.drop(['Debtor', 'Curricular units 1st sem (credited)',\n",
        "       'Curricular units 1st sem (enrolled)',\n",
        "       'Curricular units 1st sem (evaluations)',\n",
        "       'Curricular units 1st sem (approved)',\n",
        "       'Curricular units 1st sem (grade)',\n",
        "       'Curricular units 1st sem (without evaluations)',\n",
        "       'Curricular units 2nd sem (credited)',\n",
        "       'Curricular units 2nd sem (enrolled)',\n",
        "       'Curricular units 2nd sem (evaluations)',\n",
        "       'Curricular units 2nd sem (approved)',\n",
        "       'Curricular units 2nd sem (grade)',\n",
        "       'Curricular units 2nd sem (without evaluations)', \"Mother's qualification\",\n",
        "      \"Father's qualification\", 'Age at enrollment', 'International', 'Application order'], axis=1, inplace= True)"
      ],
      "metadata": {
        "id": "tUsL7PNDED8d"
      },
      "execution_count": null,
      "outputs": []
    },
    {
      "cell_type": "markdown",
      "source": [
        "### Modeling"
      ],
      "metadata": {
        "id": "alueVORTDEdk"
      }
    },
    {
      "cell_type": "markdown",
      "source": [
        "##### Preprocessing"
      ],
      "metadata": {
        "id": "ZPi8eqB_ERdn"
      }
    },
    {
      "cell_type": "code",
      "source": [
        "np.random.seed(1234)\n",
        "\n",
        "# shuffle the data\n",
        "indices = np.arange(df_one_hot.shape[0])\n",
        "shuffled_index = np.random.permutation(indices)\n",
        "df_one_hot = df_one_hot.reindex(shuffled_index, axis= 'index')\n",
        "\n",
        "# ensure equal splitting of classes among train, test, and validation datasets\n",
        "df_trainval_drop = df_one_hot[df_one_hot['Student Status'] == 'Dropout'].sample(frac=0.80, random_state=3)\n",
        "\n",
        "# break out the test, train, and validation datasets for the drop out students\n",
        "df_test_drop = df_one_hot[df_one_hot['Student Status'] == 'Dropout'].drop(df_trainval_drop.index)\n",
        "df_train_drop = df_trainval_drop.sample(frac= 0.75, random_state=3)\n",
        "df_val_drop = df_trainval_drop.drop(df_train_drop.index)\n",
        "\n",
        "df_trainval_grad = df_one_hot[df_one_hot['Student Status'] == 'Graduate'].sample(frac=0.80, random_state=3)\n",
        "# break out the test, train, and validation datasets for the drop out students\n",
        "df_test_grad = df_one_hot[df_one_hot['Student Status'] == 'Graduate'].drop(df_trainval_grad.index)\n",
        "df_train_grad = df_trainval_grad.sample(frac= 0.75, random_state=3)\n",
        "df_val_grad = df_trainval_grad.drop(df_train_grad.index)\n",
        "\n",
        "X_test = pd.concat([df_test_drop, df_test_grad])\n",
        "X_val = pd.concat([df_val_drop, df_val_grad])\n",
        "X_train = pd.concat([df_train_drop, df_train_grad])"
      ],
      "metadata": {
        "id": "YAcXZ_K5DF8t"
      },
      "execution_count": null,
      "outputs": []
    },
    {
      "cell_type": "code",
      "source": [
        "# standardize the numerical variables\n",
        "#get the mean and standard deviation of the failed classes variable for the test dataset\n",
        "mean_classes = df['Failed classes'][X_test.index].mean()\n",
        "stdev_classes = df['Failed classes'][X_test.index].std()\n",
        "mean_GDP= df['GDP'][X_test.index].mean()\n",
        "stdev_GDP = df['GDP'][X_test.index].std()\n",
        "mean_unemp = df['Unemployment rate'][X_test.index].mean()\n",
        "stdev_unemp = df['Unemployment rate'][X_test.index].std()\n",
        "mean_inf = df['Inflation rate'][X_test.index].mean()\n",
        "stdev_inf = df['Inflation rate'][X_test.index].std()\n",
        "\n",
        "def standardize(data, original_df, mean, stdev, column_name):\n",
        "  data[column_name] = (original_df[column_name][data.index] - mean)/stdev\n",
        "  return data\n",
        "\n",
        "X_test= standardize(X_test, df, mean_classes, stdev_classes, 'Failed classes')\n",
        "X_train= standardize(X_train, df, mean_classes, stdev_classes, 'Failed classes')\n",
        "X_val= standardize(X_val, df, mean_classes, stdev_classes, 'Failed classes')\n",
        "\n",
        "X_test= standardize(X_test, df, mean_GDP, stdev_GDP, 'GDP')\n",
        "X_train= standardize(X_train, df, mean_GDP, stdev_GDP, 'GDP')\n",
        "X_val= standardize(X_val, df, mean_GDP, stdev_GDP, 'GDP')\n",
        "\n",
        "X_test= standardize(X_test, df, mean_unemp, stdev_unemp, 'Unemployment rate')\n",
        "X_train= standardize(X_train, df, mean_unemp, stdev_unemp, 'Unemployment rate')\n",
        "X_val= standardize(X_val, df, mean_unemp, stdev_unemp, 'Unemployment rate')\n",
        "\n",
        "X_test= standardize(X_test, df, mean_inf, stdev_inf, 'Inflation rate')\n",
        "X_train= standardize(X_train, df, mean_inf, stdev_inf, 'Inflation rate')\n",
        "X_val= standardize(X_val, df, mean_inf, stdev_inf, 'Inflation rate')"
      ],
      "metadata": {
        "id": "0saIOlNeEgoR"
      },
      "execution_count": null,
      "outputs": []
    },
    {
      "cell_type": "code",
      "source": [
        "# separate out the predicted variable from the features\n",
        "y_train = X_train[\"Student Status\"]\n",
        "y_val = X_val[\"Student Status\"]\n",
        "y_test = X_test[\"Student Status\"]\n",
        "\n",
        "# one-hot encode the predicted variable\n",
        "y_train= y_train.replace({'Dropout':0, 'Graduate':1})\n",
        "y_val= y_val.replace({'Dropout':0, 'Graduate': 1})\n",
        "y_test= y_test.replace({'Dropout': 0, 'Graduate': 1})\n",
        "\n",
        "# drop the predicted variable from the feature dataframe\n",
        "X_train.drop(['Student Status'], axis= 1, inplace= True)\n",
        "X_val.drop(['Student Status'], axis= 1, inplace= True)\n",
        "X_test.drop(['Student Status'], axis= 1, inplace= True)\n",
        "\n",
        "var_names = X_train.columns"
      ],
      "metadata": {
        "id": "g4bQoUwwEi7H"
      },
      "execution_count": null,
      "outputs": []
    },
    {
      "cell_type": "code",
      "source": [
        "# shuffle the data again since dropout was concatenated to graduate\n",
        "\n",
        "# training\n",
        "indices_train = X_train.index.values\n",
        "shuffled_index_train = np.random.permutation(indices_train)\n",
        "X_train = X_train.reindex(index= shuffled_index_train)\n",
        "y_train = y_train.reindex(index= shuffled_index_train)\n",
        "\n",
        "# testing\n",
        "indices_test = X_test.index.values\n",
        "shuffled_index_test = np.random.permutation(indices_test)\n",
        "X_test = X_test.reindex(index= shuffled_index_test)\n",
        "y_test = y_test.reindex(index= shuffled_index_test)\n",
        "\n",
        "# validation\n",
        "indices_val = X_val.index.values\n",
        "shuffled_index_val = np.random.permutation(indices_val)\n",
        "X_val = X_val.reindex(index = shuffled_index_val)\n",
        "y_val = y_val.reindex(index= shuffled_index_val)\n",
        "\n",
        "# Convert data into numpy arrays\n",
        "X_train = np.array(X_train)\n",
        "X_val = np.array(X_val)\n",
        "X_test = np.array(X_test)\n",
        "\n",
        "y_train = np.array(y_train)\n",
        "y_val = np.array(y_val)\n",
        "y_test = np.array(y_test)"
      ],
      "metadata": {
        "id": "o8QHIUQSEjiN"
      },
      "execution_count": null,
      "outputs": []
    },
    {
      "cell_type": "markdown",
      "source": [
        "##### Models"
      ],
      "metadata": {
        "id": "OryniwNAFAch"
      }
    },
    {
      "cell_type": "code",
      "source": [
        "# Baseline of always assuming the majority class (Graduate)\n",
        "#accuracy is the number of correct over total predictions --> the number of actual graduates over all samples\n",
        "train_accuracy = y_train[y_train == 1].shape[0]/y_train.shape[0]\n",
        "val_accuracy = y_val[y_val == 1].shape[0]/y_val.shape[0]\n",
        "test_accuracy = y_test[y_test == 1].shape[0]/y_test.shape[0]\n",
        "#all accuracies are the same because we balanced the classes in the data split\n",
        "print(\"Majority Class Baseline Accuracies:\")\n",
        "print(\"Training Data:\", np.round(train_accuracy, 4))\n",
        "print(\"Validation Data:\", np.round(val_accuracy, 4))\n",
        "print(\"Test Data:\", np.round(test_accuracy,4))"
      ],
      "metadata": {
        "colab": {
          "base_uri": "https://localhost:8080/"
        },
        "id": "RfKQfBXHFNiP",
        "outputId": "34efaf35-6b13-42f2-f763-aae0e42abd94"
      },
      "execution_count": null,
      "outputs": [
        {
          "output_type": "stream",
          "name": "stdout",
          "text": [
            "Majority Class Baseline Accuracies:\n",
            "Training Data: 0.6122\n",
            "Validation Data: 0.6128\n",
            "Test Data: 0.6128\n"
          ]
        }
      ]
    },
    {
      "cell_type": "markdown",
      "source": [
        "##### Logistic Regression"
      ],
      "metadata": {
        "id": "ml3I13HGFsO9"
      }
    },
    {
      "cell_type": "code",
      "source": [
        "#create a logistic regression model\n",
        "def build_model_logistic():\n",
        "  # Clear session and remove randomness.\n",
        "  tf.keras.backend.clear_session()\n",
        "  tf.random.set_seed(0)\n",
        "\n",
        "  #add an input layer and a densely connected logistic regression output layer\n",
        "\n",
        "  # Build a model using keras.Sequential. While this is intended for neural\n",
        "  # networks (which may have multiple layers), we want just a single layer for\n",
        "  # binary logistic regression.\n",
        "  model = tf.keras.Sequential()\n",
        "  model.add(tf.keras.layers.InputLayer(\n",
        "    shape=[185]))\n",
        "  model.add(tf.keras.layers.Dense(\n",
        "      units=1,        # output dim - there is only one output\n",
        "      use_bias=True,               # use a bias (intercept) param\n",
        "      activation=\"sigmoid\",    #ude a sigmoid activation function to implement logistic regression\n",
        "      kernel_initializer=tf.keras.initializers.Ones(),  # initialize params to 1\n",
        "      bias_initializer=tf.keras.initializers.Ones(),    # initialize bias to 1\n",
        "  ))\n",
        "\n",
        "  # We need to choose an optimizer. We'll use SGD, which is actually mini-batch SGD\n",
        "  optimizer = tf.keras.optimizers.Adam(learning_rate= 0.01)\n",
        "\n",
        "  # Finally, compile the model. Select the accuracy metric. This finalizes the graph for training.\n",
        "  #use binary_crossentropy as the loss function\n",
        "  model.compile(optimizer= optimizer, loss= \"binary_crossentropy\", metrics=[\"accuracy\"])\n",
        "\n",
        "\n",
        "  return model\n",
        "\n",
        "# Plot the loss at each epoch and show final numbers.\n",
        "def show_history(history):\n",
        "  plt.plot(history.history['loss'], color='black', label='train')\n",
        "  plt.plot(history.history['val_loss'], color='red', label='dev')\n",
        "  plt.xlabel('epoch')\n",
        "  plt.ylabel('loss')\n",
        "  plt.legend()\n",
        "  plt.show()\n",
        "  print('final train acc: %.3f' %history.history['accuracy'][-1])\n",
        "  print('final dev acc:   %.3f' %history.history['val_accuracy'][-1])"
      ],
      "metadata": {
        "id": "hE5UdkuzEjpd"
      },
      "execution_count": null,
      "outputs": []
    },
    {
      "cell_type": "code",
      "source": [
        "# #build the logistic regression baseline\n",
        "# model_logistic_baseline = build_model_logistic()\n",
        "\n",
        "# #fit the model and plot the losses + print the accuracies\n",
        "# model_logistic_baseline.fit(x=X_train, y=y_train, validation_data= (X_val, y_val), epochs= 12,verbose=0)\n",
        "# show_history(model_logistic_baseline.history)"
      ],
      "metadata": {
        "id": "C4qp2em-Ejwi"
      },
      "execution_count": null,
      "outputs": []
    },
    {
      "cell_type": "code",
      "source": [
        "# # evaluate the logistic baseline against the test data\n",
        "# results = model_logistic_baseline.evaluate(X_test, y_test)\n",
        "# print(\"test acc:\", results[1])"
      ],
      "metadata": {
        "id": "sQ3aDoPPEj2e"
      },
      "execution_count": null,
      "outputs": []
    },
    {
      "cell_type": "markdown",
      "source": [
        "##### Random Forest Classifier"
      ],
      "metadata": {
        "id": "6hxp96NPFwGH"
      }
    },
    {
      "cell_type": "code",
      "source": [
        "rfc = RandomForestClassifier(n_estimators=500, n_jobs=-1,\n",
        "                                 random_state=0, max_depth=9,\n",
        "                                 min_samples_split=3, min_samples_leaf=2,\n",
        "                                 max_features='log2')\n",
        "rfc.fit(X_train, y_train)\n",
        "print (\"Model Accuracy:\", round(rfc.score(X_val, y_val),3))\n",
        "\n",
        "# Evaluate on training data\n",
        "train_preds = rfc.predict(X_train)\n",
        "train_accuracy = accuracy_score(y_train, train_preds)\n",
        "\n",
        "# Evaluate on validation data\n",
        "val_preds = rfc.predict(X_val)\n",
        "val_accuracy = accuracy_score(y_val, val_preds)\n",
        "\n",
        "# Evaluate on test data\n",
        "test_preds = rfc.predict(X_test)\n",
        "test_accuracy = accuracy_score(y_test, test_preds)\n",
        "\n",
        "# Print results\n",
        "print(f\"Training Accuracy: {train_accuracy * 100:.2f}%\")\n",
        "print(f\"Validation Accuracy: {val_accuracy * 100:.2f}%\")\n",
        "print(f\"Test Accuracy: {test_accuracy * 100:.2f}%\")\n",
        "\n",
        "y_val_pred = rfc.predict(X_val)\n",
        "ConfusionMatrixDisplay(confusion_matrix(y_val, y_val_pred)).plot()\n",
        "plt.title(\"Confusion Matrix\")\n",
        "plt.show()"
      ],
      "metadata": {
        "colab": {
          "base_uri": "https://localhost:8080/",
          "height": 540
        },
        "id": "Vw4LiYx2Ej7s",
        "outputId": "2dc4c398-8393-41bf-cc55-d0f4c0e1fb0a"
      },
      "execution_count": null,
      "outputs": [
        {
          "output_type": "stream",
          "name": "stdout",
          "text": [
            "Model Accuracy: 0.912\n",
            "Training Accuracy: 93.43%\n",
            "Validation Accuracy: 91.25%\n",
            "Test Accuracy: 89.39%\n"
          ]
        },
        {
          "output_type": "display_data",
          "data": {
            "text/plain": [
              "<Figure size 640x480 with 2 Axes>"
            ],
            "image/png": "[encoded data removed]"
          },
          "metadata": {}
        }
      ]
    },
    {
      "cell_type": "code",
      "source": [
        "rfc = RandomForestClassifier(n_estimators=500, n_jobs=-1,\n",
        "                                 random_state=0, max_depth=9,\n",
        "                                 min_samples_split=3, min_samples_leaf=2,\n",
        "                                 max_features='sqrt')\n",
        "rfc.fit(X_train, y_train)\n",
        "print (\"Model Accuracy:\", round(rfc.score(X_val, y_val),3))\n",
        "\n",
        "# Evaluate on training data\n",
        "train_preds = rfc.predict(X_train)\n",
        "train_accuracy = accuracy_score(y_train, train_preds)\n",
        "\n",
        "# Evaluate on validation data\n",
        "val_preds = rfc.predict(X_val)\n",
        "val_accuracy = accuracy_score(y_val, val_preds)\n",
        "\n",
        "# Evaluate on test data\n",
        "test_preds = rfc.predict(X_test)\n",
        "test_accuracy = accuracy_score(y_test, test_preds)\n",
        "\n",
        "# Print results\n",
        "print(f\"Training Accuracy: {train_accuracy * 100:.2f}%\")\n",
        "print(f\"Validation Accuracy: {val_accuracy * 100:.2f}%\")\n",
        "print(f\"Test Accuracy: {test_accuracy * 100:.2f}%\")\n",
        "\n",
        "y_val_pred = rfc.predict(X_val)\n",
        "ConfusionMatrixDisplay(confusion_matrix(y_val, y_val_pred)).plot()\n",
        "plt.title(\"Confusion Matrix\")\n",
        "plt.show()"
      ],
      "metadata": {
        "colab": {
          "base_uri": "https://localhost:8080/",
          "height": 540
        },
        "id": "OslUtvrBEkBd",
        "outputId": "865dad10-11f3-47e8-deea-b5c2a02fb624"
      },
      "execution_count": null,
      "outputs": [
        {
          "output_type": "stream",
          "name": "stdout",
          "text": [
            "Model Accuracy: 0.914\n",
            "Training Accuracy: 94.78%\n",
            "Validation Accuracy: 91.41%\n",
            "Test Accuracy: 90.57%\n"
          ]
        },
        {
          "output_type": "display_data",
          "data": {
            "text/plain": [
              "<Figure size 640x480 with 2 Axes>"
            ],
            "image/png": "[encoded data removed]"
          },
          "metadata": {}
        }
      ]
    },
    {
      "cell_type": "code",
      "source": [
        "rfc = RandomForestClassifier(n_estimators=750, n_jobs=-1,\n",
        "                                 random_state=0, max_depth=12,\n",
        "                                 min_samples_split=6, min_samples_leaf=4,\n",
        "                                 max_features='log2')\n",
        "rfc.fit(X_train, y_train)\n",
        "print (\"Model Accuracy:\", round(rfc.score(X_val, y_val),3))\n",
        "\n",
        "# Evaluate on training data\n",
        "train_preds = rfc.predict(X_train)\n",
        "train_accuracy = accuracy_score(y_train, train_preds)\n",
        "\n",
        "# Evaluate on validation data\n",
        "val_preds = rfc.predict(X_val)\n",
        "val_accuracy = accuracy_score(y_val, val_preds)\n",
        "\n",
        "# Evaluate on test data\n",
        "test_preds = rfc.predict(X_test)\n",
        "test_accuracy = accuracy_score(y_test, test_preds)\n",
        "\n",
        "# Print results\n",
        "print(f\"Training Accuracy: {train_accuracy * 100:.2f}%\")\n",
        "print(f\"Validation Accuracy: {val_accuracy * 100:.2f}%\")\n",
        "print(f\"Test Accuracy: {test_accuracy * 100:.2f}%\")\n",
        "\n",
        "y_val_pred = rfc.predict(X_val)\n",
        "ConfusionMatrixDisplay(confusion_matrix(y_val, y_val_pred)).plot()\n",
        "plt.title(\"Confusion Matrix\")\n",
        "plt.show()"
      ],
      "metadata": {
        "colab": {
          "base_uri": "https://localhost:8080/",
          "height": 540
        },
        "id": "3Ib5v7mHEkGH",
        "outputId": "a91cb28b-b41e-4021-abfc-4a32ff2eadf7"
      },
      "execution_count": null,
      "outputs": [
        {
          "output_type": "stream",
          "name": "stdout",
          "text": [
            "Model Accuracy: 0.911\n",
            "Training Accuracy: 93.15%\n",
            "Validation Accuracy: 91.08%\n",
            "Test Accuracy: 89.23%\n"
          ]
        },
        {
          "output_type": "display_data",
          "data": {
            "text/plain": [
              "<Figure size 640x480 with 2 Axes>"
            ],
            "image/png": "[encoded data removed]"
          },
          "metadata": {}
        }
      ]
    },
    {
      "cell_type": "code",
      "source": [
        "rfc = RandomForestClassifier(n_estimators=750, n_jobs=-1,\n",
        "                                 random_state=0, max_depth=12,\n",
        "                                 min_samples_split=6, min_samples_leaf=4,\n",
        "                                 max_features='sqrt')\n",
        "rfc.fit(X_train, y_train)\n",
        "print (\"Model Accuracy:\", round(rfc.score(X_val, y_val),3))\n",
        "\n",
        "# Evaluate on training data\n",
        "train_preds = rfc.predict(X_train)\n",
        "train_accuracy = accuracy_score(y_train, train_preds)\n",
        "\n",
        "# Evaluate on validation data\n",
        "val_preds = rfc.predict(X_val)\n",
        "val_accuracy = accuracy_score(y_val, val_preds)\n",
        "\n",
        "# Evaluate on test data\n",
        "test_preds = rfc.predict(X_test)\n",
        "test_accuracy = accuracy_score(y_test, test_preds)\n",
        "\n",
        "# Print results\n",
        "print(f\"Training Accuracy: {train_accuracy * 100:.2f}%\")\n",
        "print(f\"Validation Accuracy: {val_accuracy * 100:.2f}%\")\n",
        "print(f\"Test Accuracy: {test_accuracy * 100:.2f}%\")\n",
        "\n",
        "y_val_pred = rfc.predict(X_val)\n",
        "ConfusionMatrixDisplay(confusion_matrix(y_val, y_val_pred)).plot()\n",
        "plt.title(\"Confusion Matrix\")\n",
        "plt.show()"
      ],
      "metadata": {
        "colab": {
          "base_uri": "https://localhost:8080/",
          "height": 540
        },
        "id": "zNO5a81tEkL3",
        "outputId": "2212ac66-55aa-4aac-981d-ca6e9bff07e8"
      },
      "execution_count": null,
      "outputs": [
        {
          "output_type": "stream",
          "name": "stdout",
          "text": [
            "Model Accuracy: 0.914\n",
            "Training Accuracy: 94.33%\n",
            "Validation Accuracy: 91.41%\n",
            "Test Accuracy: 90.40%\n"
          ]
        },
        {
          "output_type": "display_data",
          "data": {
            "text/plain": [
              "<Figure size 640x480 with 2 Axes>"
            ],
            "image/png": "[encoded data removed]"
          },
          "metadata": {}
        }
      ]
    },
    {
      "cell_type": "code",
      "source": [
        "rfc = RandomForestClassifier(n_estimators=750, n_jobs=-1,\n",
        "                                 random_state=0, max_depth=20,\n",
        "                                 min_samples_split=3, min_samples_leaf=2,\n",
        "                                 max_features='sqrt')\n",
        "rfc.fit(X_train, y_train)\n",
        "print (\"Model Accuracy:\", round(rfc.score(X_val, y_val),3))\n",
        "\n",
        "# Evaluate on training data\n",
        "train_preds = rfc.predict(X_train)\n",
        "train_accuracy = accuracy_score(y_train, train_preds)\n",
        "\n",
        "# Evaluate on validation data\n",
        "val_preds = rfc.predict(X_val)\n",
        "val_accuracy = accuracy_score(y_val, val_preds)\n",
        "\n",
        "# Evaluate on test data\n",
        "test_preds = rfc.predict(X_test)\n",
        "test_accuracy = accuracy_score(y_test, test_preds)\n",
        "\n",
        "# Print results\n",
        "print(f\"Training Accuracy: {train_accuracy * 100:.2f}%\")\n",
        "print(f\"Validation Accuracy: {val_accuracy * 100:.2f}%\")\n",
        "print(f\"Test Accuracy: {test_accuracy * 100:.2f}%\")\n",
        "\n",
        "y_val_pred = rfc.predict(X_val)\n",
        "ConfusionMatrixDisplay(confusion_matrix(y_val, y_val_pred)).plot()\n",
        "plt.title(\"Confusion Matrix\")\n",
        "plt.show()"
      ],
      "metadata": {
        "colab": {
          "base_uri": "https://localhost:8080/",
          "height": 540
        },
        "id": "yCNX4PfwEkQc",
        "outputId": "59a11770-566a-4b90-dec0-fd00a1405ba4"
      },
      "execution_count": null,
      "outputs": [
        {
          "output_type": "stream",
          "name": "stdout",
          "text": [
            "Model Accuracy: 0.916\n",
            "Training Accuracy: 96.69%\n",
            "Validation Accuracy: 91.58%\n",
            "Test Accuracy: 90.74%\n"
          ]
        },
        {
          "output_type": "display_data",
          "data": {
            "text/plain": [
              "<Figure size 640x480 with 2 Axes>"
            ],
            "image/png": "[encoded data removed]"
          },
          "metadata": {}
        }
      ]
    },
    {
      "cell_type": "code",
      "source": [
        "rfc = RandomForestClassifier(n_estimators=1250, n_jobs=-1,\n",
        "                                 random_state=0, max_depth=20,\n",
        "                                 min_samples_split=3, min_samples_leaf=2,\n",
        "                                 max_features='sqrt')\n",
        "rfc.fit(X_train, y_train)\n",
        "print (\"Model Accuracy:\", round(rfc.score(X_val, y_val),3))\n",
        "\n",
        "# Evaluate on training data\n",
        "train_preds = rfc.predict(X_train)\n",
        "train_accuracy = accuracy_score(y_train, train_preds)\n",
        "\n",
        "# Evaluate on validation data\n",
        "val_preds = rfc.predict(X_val)\n",
        "val_accuracy = accuracy_score(y_val, val_preds)\n",
        "\n",
        "# Evaluate on test data\n",
        "test_preds = rfc.predict(X_test)\n",
        "test_accuracy = accuracy_score(y_test, test_preds)\n",
        "\n",
        "# Print results\n",
        "print(f\"Training Accuracy: {train_accuracy * 100:.2f}%\")\n",
        "print(f\"Validation Accuracy: {val_accuracy * 100:.2f}%\")\n",
        "print(f\"Test Accuracy: {test_accuracy * 100:.2f}%\")\n",
        "\n",
        "y_val_pred = rfc.predict(X_val)\n",
        "ConfusionMatrixDisplay(confusion_matrix(y_val, y_val_pred)).plot()\n",
        "plt.title(\"Confusion Matrix\")\n",
        "plt.show()"
      ],
      "metadata": {
        "colab": {
          "base_uri": "https://localhost:8080/",
          "height": 540
        },
        "id": "HhdRjpCiEkVz",
        "outputId": "6fc2fdd7-4f9f-4c61-e32f-9a18c2aee175"
      },
      "execution_count": null,
      "outputs": [
        {
          "output_type": "stream",
          "name": "stdout",
          "text": [
            "Model Accuracy: 0.914\n",
            "Training Accuracy: 96.63%\n",
            "Validation Accuracy: 91.41%\n",
            "Test Accuracy: 90.57%\n"
          ]
        },
        {
          "output_type": "display_data",
          "data": {
            "text/plain": [
              "<Figure size 640x480 with 2 Axes>"
            ],
            "image/png": "[encoded data removed]"
          },
          "metadata": {}
        }
      ]
    },
    {
      "cell_type": "code",
      "source": [
        "rfc = RandomForestClassifier(n_estimators=750, n_jobs=-1,\n",
        "                                 random_state=0, max_depth=20,\n",
        "                                 min_samples_split=5, min_samples_leaf=5,\n",
        "                                 max_features='sqrt')\n",
        "rfc.fit(X_train, y_train)\n",
        "print (\"Model Accuracy:\", round(rfc.score(X_val, y_val),3))\n",
        "\n",
        "# Evaluate on training data\n",
        "train_preds = rfc.predict(X_train)\n",
        "train_accuracy = accuracy_score(y_train, train_preds)\n",
        "\n",
        "# Evaluate on validation data\n",
        "val_preds = rfc.predict(X_val)\n",
        "val_accuracy = accuracy_score(y_val, val_preds)\n",
        "\n",
        "# Evaluate on test data\n",
        "test_preds = rfc.predict(X_test)\n",
        "test_accuracy = accuracy_score(y_test, test_preds)\n",
        "\n",
        "# Print results\n",
        "print(f\"Training Accuracy: {train_accuracy * 100:.2f}%\")\n",
        "print(f\"Validation Accuracy: {val_accuracy * 100:.2f}%\")\n",
        "print(f\"Test Accuracy: {test_accuracy * 100:.2f}%\")\n",
        "\n",
        "y_val_pred = rfc.predict(X_val)\n",
        "ConfusionMatrixDisplay(confusion_matrix(y_val, y_val_pred)).plot()\n",
        "plt.title(\"Confusion Matrix\")\n",
        "plt.show()"
      ],
      "metadata": {
        "colab": {
          "base_uri": "https://localhost:8080/",
          "height": 540
        },
        "id": "tjB0YfobEkbP",
        "outputId": "bdf663b2-cee0-499d-d152-6e28570b07a0"
      },
      "execution_count": null,
      "outputs": [
        {
          "output_type": "stream",
          "name": "stdout",
          "text": [
            "Model Accuracy: 0.914\n",
            "Training Accuracy: 94.05%\n",
            "Validation Accuracy: 91.41%\n",
            "Test Accuracy: 90.57%\n"
          ]
        },
        {
          "output_type": "display_data",
          "data": {
            "text/plain": [
              "<Figure size 640x480 with 2 Axes>"
            ],
            "image/png": "[encoded data removed]"
          },
          "metadata": {}
        }
      ]
    },
    {
      "cell_type": "code",
      "source": [
        "rfc = RandomForestClassifier(n_estimators=750, n_jobs=-1,\n",
        "                                 random_state=0, max_depth=25,\n",
        "                                 min_samples_split=7, min_samples_leaf=7,\n",
        "                                 max_features='sqrt')\n",
        "rfc.fit(X_train, y_train)\n",
        "print (\"Model Accuracy:\", round(rfc.score(X_val, y_val),3))\n",
        "\n",
        "# Evaluate on training data\n",
        "train_preds = rfc.predict(X_train)\n",
        "train_accuracy = accuracy_score(y_train, train_preds)\n",
        "\n",
        "# Evaluate on validation data\n",
        "val_preds = rfc.predict(X_val)\n",
        "val_accuracy = accuracy_score(y_val, val_preds)\n",
        "\n",
        "# Evaluate on test data\n",
        "test_preds = rfc.predict(X_test)\n",
        "test_accuracy = accuracy_score(y_test, test_preds)\n",
        "\n",
        "# Print results\n",
        "print(f\"Training Accuracy: {train_accuracy * 100:.2f}%\")\n",
        "print(f\"Validation Accuracy: {val_accuracy * 100:.2f}%\")\n",
        "print(f\"Test Accuracy: {test_accuracy * 100:.2f}%\")\n",
        "\n",
        "y_val_pred = rfc.predict(X_val)\n",
        "ConfusionMatrixDisplay(confusion_matrix(y_val, y_val_pred)).plot()\n",
        "plt.title(\"Confusion Matrix\")\n",
        "plt.show()"
      ],
      "metadata": {
        "colab": {
          "base_uri": "https://localhost:8080/",
          "height": 540
        },
        "id": "JjOVvul_EkgL",
        "outputId": "de4b0830-3bac-480b-d143-eb3c160a8e43"
      },
      "execution_count": null,
      "outputs": [
        {
          "output_type": "stream",
          "name": "stdout",
          "text": [
            "Model Accuracy: 0.916\n",
            "Training Accuracy: 93.49%\n",
            "Validation Accuracy: 91.58%\n",
            "Test Accuracy: 90.74%\n"
          ]
        },
        {
          "output_type": "display_data",
          "data": {
            "text/plain": [
              "<Figure size 640x480 with 2 Axes>"
            ],
            "image/png": "[encoded data removed]"
          },
          "metadata": {}
        }
      ]
    },
    {
      "cell_type": "code",
      "source": [
        "rfc = RandomForestClassifier(n_estimators=750, n_jobs=-1,\n",
        "                                 random_state=0, max_depth=30,\n",
        "                                 min_samples_split=11, min_samples_leaf=11,\n",
        "                                 max_features='sqrt')\n",
        "rfc.fit(X_train, y_train)\n",
        "print (\"Model Accuracy:\", round(rfc.score(X_val, y_val),3))\n",
        "\n",
        "# Evaluate on training data\n",
        "train_preds = rfc.predict(X_train)\n",
        "train_accuracy = accuracy_score(y_train, train_preds)\n",
        "\n",
        "# Evaluate on validation data\n",
        "val_preds = rfc.predict(X_val)\n",
        "val_accuracy = accuracy_score(y_val, val_preds)\n",
        "\n",
        "# Evaluate on test data\n",
        "test_preds = rfc.predict(X_test)\n",
        "test_accuracy = accuracy_score(y_test, test_preds)\n",
        "\n",
        "# Print results\n",
        "print(f\"Training Accuracy: {train_accuracy * 100:.2f}%\")\n",
        "print(f\"Validation Accuracy: {val_accuracy * 100:.2f}%\")\n",
        "print(f\"Test Accuracy: {test_accuracy * 100:.2f}%\")\n",
        "\n",
        "y_val_pred = rfc.predict(X_val)\n",
        "ConfusionMatrixDisplay(confusion_matrix(y_val, y_val_pred)).plot()\n",
        "plt.title(\"Confusion Matrix\")\n",
        "plt.show()"
      ],
      "metadata": {
        "colab": {
          "base_uri": "https://localhost:8080/",
          "height": 540
        },
        "id": "v2LUlONOEkk7",
        "outputId": "25ccb483-705d-4f96-a6ab-618041785398"
      },
      "execution_count": null,
      "outputs": [
        {
          "output_type": "stream",
          "name": "stdout",
          "text": [
            "Model Accuracy: 0.914\n",
            "Training Accuracy: 92.76%\n",
            "Validation Accuracy: 91.41%\n",
            "Test Accuracy: 90.40%\n"
          ]
        },
        {
          "output_type": "display_data",
          "data": {
            "text/plain": [
              "<Figure size 640x480 with 2 Axes>"
            ],
            "image/png": "[encoded data removed]"
          },
          "metadata": {}
        }
      ]
    },
    {
      "cell_type": "code",
      "source": [
        "rfc = RandomForestClassifier(n_estimators=750, n_jobs=-1,\n",
        "                                 random_state=0, max_depth=27,\n",
        "                                 min_samples_split=9, min_samples_leaf=9,\n",
        "                                 max_features='sqrt')\n",
        "rfc.fit(X_train, y_train)\n",
        "print (\"Model Accuracy:\", round(rfc.score(X_val, y_val),3))\n",
        "\n",
        "# Evaluate on training data\n",
        "train_preds = rfc.predict(X_train)\n",
        "train_accuracy = accuracy_score(y_train, train_preds)\n",
        "\n",
        "# Evaluate on validation data\n",
        "val_preds = rfc.predict(X_val)\n",
        "val_accuracy = accuracy_score(y_val, val_preds)\n",
        "\n",
        "# Evaluate on test data\n",
        "test_preds = rfc.predict(X_test)\n",
        "test_accuracy = accuracy_score(y_test, test_preds)\n",
        "\n",
        "# Print results\n",
        "print(f\"Training Accuracy: {train_accuracy * 100:.2f}%\")\n",
        "print(f\"Validation Accuracy: {val_accuracy * 100:.2f}%\")\n",
        "print(f\"Test Accuracy: {test_accuracy * 100:.2f}%\")\n",
        "\n",
        "y_val_pred = rfc.predict(X_val)\n",
        "ConfusionMatrixDisplay(confusion_matrix(y_val, y_val_pred)).plot()\n",
        "plt.title(\"Confusion Matrix\")\n",
        "plt.show()"
      ],
      "metadata": {
        "colab": {
          "base_uri": "https://localhost:8080/",
          "height": 540
        },
        "id": "YA1JLwzrnnoc",
        "outputId": "a2bebc9f-bdd8-4de1-dcd0-243685d78eb4"
      },
      "execution_count": null,
      "outputs": [
        {
          "output_type": "stream",
          "name": "stdout",
          "text": [
            "Model Accuracy: 0.918\n",
            "Training Accuracy: 92.99%\n",
            "Validation Accuracy: 91.75%\n",
            "Test Accuracy: 90.40%\n"
          ]
        },
        {
          "output_type": "display_data",
          "data": {
            "text/plain": [
              "<Figure size 640x480 with 2 Axes>"
            ],
            "image/png": "[encoded data removed]"
          },
          "metadata": {}
        }
      ]
    },
    {
      "cell_type": "markdown",
      "source": [
        "##### Random Forest Experiments"
      ],
      "metadata": {
        "id": "cFozdGZlGC1V"
      }
    },
    {
      "cell_type": "markdown",
      "source": [
        "Model# | Estimators | Max Depth| Min Sample Split | Min Sample Leaves | Max Features | Training Acc| Validation Acc | Test Acc\n",
        "-|-|-|-|-|-|-|-|-\n",
        "1 | 500 | 9 | 3 | 2 |'log2'| 93.43 | 91.25 | 89.39\n",
        "2 | 500 | 9 | 3 | 2 |'sqrt'| 94.78 | 91.41 | 90.57\n",
        "3 | 750 | 12 | 6 | 4 |'log2'| 93.15 | 91.08 | 89.23\n",
        "4 | 750 | 12 | 6 | 4 |'sqrt'| 94.33 | 91.41 | 90.40\n",
        "5 | 750 | 20 | 3 | 2 |'sqrt'| 96.69 | 91.58 | 90.74\n",
        "6 | 1250 | 20 | 3 | 2 |'sqrt'| 96.63 | 91.41 | 90.57\n",
        "7 | 750 | 20 | 5 | 5 |'sqrt'| 94.05 | 91.41 | 90.57\n",
        "8 | 750 | 25 | 7 | 7 |'sqrt'| 93.49 | 91.58 | 90.74\n",
        "9 | 750 | 30 | 11 | 11 |'sqrt'| 92.76 | 91.41 | 90.40\n",
        "10 | 750 | 27 | 9 | 9 |'sqrt'| 92.99 | 91.75 | 90.40"
      ],
      "metadata": {
        "id": "ybSokzLbGH5D"
      }
    },
    {
      "cell_type": "markdown",
      "source": [
        "##### Neural Network"
      ],
      "metadata": {
        "id": "6aXN8GUzGKP1"
      }
    },
    {
      "cell_type": "code",
      "source": [
        "def build_model(num_features, learning_rate):\n",
        "  \"\"\"Build a TF Logistic regression model using Keras.\n",
        "\n",
        "  Args:\n",
        "    num_features: The number of input features.\n",
        "    learning_rate: The desired learning rate for SGD.\n",
        "\n",
        "  Returns:\n",
        "    model: A tf.keras model (graph).\n",
        "  \"\"\"\n",
        "\n",
        "  tf.random.set_seed(1234)\n",
        "  np.random.seed(1234)\n",
        "  model = tf.keras.Sequential()\n",
        "\n",
        "  # First hidden layer with ReLU activation\n",
        "  model.add(tf.keras.layers.Dense(\n",
        "      units=128,                         # Number of neurons\n",
        "      input_shape=[num_features],       # Input dimension\n",
        "      activation='relu',                # Activation function\n",
        "      kernel_initializer='he_normal'    # He initialization for ReLU\n",
        "  ))\n",
        "\n",
        "  model.add(tf.keras.layers.Dense(\n",
        "      units=1,        # output dim\n",
        "      input_shape=[num_features],  # input dim\n",
        "      use_bias=True,               # use a bias (intercept) param\n",
        "      activation='sigmoid',\n",
        "      kernel_initializer=tf.ones_initializer,  # initialize params to 1\n",
        "      bias_initializer=tf.ones_initializer,    # initialize bias to 1\n",
        "  ))\n",
        "\n",
        "  # We need to choose an optimizer. We'll use SGD, which is actually mini-batch SGD\n",
        "  optimizer = tf.keras.optimizers.SGD(learning_rate=learning_rate)\n",
        "\n",
        "  # Finally, compile the model. Select the accuracy metric. This finalizes the graph for training.\n",
        "  model.compile(\n",
        "      loss='binary_crossentropy',\n",
        "      optimizer=optimizer,\n",
        "      metrics=[metrics.binary_accuracy])\n",
        "\n",
        "  return model\n",
        "\n",
        "  # Build Model\n",
        "model_tf = build_model(num_features=X_train.shape[1], learning_rate=.1)\n",
        "\n",
        "# Fit the model\n",
        "fit_tf = model_tf.fit(\n",
        "      x = X_train,\n",
        "      y = y_train,\n",
        "      validation_data=(X_val,y_val),\n",
        "      epochs=50,\n",
        "      batch_size=12,\n",
        "      verbose=0)"
      ],
      "metadata": {
        "colab": {
          "base_uri": "https://localhost:8080/"
        },
        "id": "uAd_BndqEkpV",
        "outputId": "7b35b6ed-8a38-4f72-b18e-f43e915836d7"
      },
      "execution_count": null,
      "outputs": [
        {
          "output_type": "stream",
          "name": "stderr",
          "text": [
            "/usr/local/lib/python3.10/dist-packages/keras/src/layers/core/dense.py:87: UserWarning: Do not pass an `input_shape`/`input_dim` argument to a layer. When using Sequential models, prefer using an `Input(shape)` object as the first layer in the model instead.\n",
            "  super().__init__(activity_regularizer=activity_regularizer, **kwargs)\n"
          ]
        }
      ]
    },
    {
      "cell_type": "markdown",
      "source": [
        "Test 1"
      ],
      "metadata": {
        "id": "9790No21GQeF"
      }
    },
    {
      "cell_type": "code",
      "source": [
        "def build_model(num_features, learning_rate):\n",
        "    \"\"\"Build a TF Logistic regression model using Keras.\n",
        "\n",
        "    Args:\n",
        "      num_features: The number of input features.\n",
        "      learning_rate: The desired learning rate for SGD.\n",
        "\n",
        "    Returns:\n",
        "      model: A tf.keras model (graph).\n",
        "    \"\"\"\n",
        "    tf.random.set_seed(1234)\n",
        "    np.random.seed(1234)\n",
        "    model = tf.keras.Sequential()\n",
        "\n",
        "    model.add(tf.keras.layers.Dense(\n",
        "        units=1,        # output dim\n",
        "        input_shape=[num_features],  # input dim\n",
        "        use_bias=True,               # use a bias (intercept) param\n",
        "        activation='sigmoid',\n",
        "        kernel_initializer=tf.ones_initializer,  # initialize params to 1\n",
        "        bias_initializer=tf.ones_initializer,    # initialize bias to 1\n",
        "    ))\n",
        "\n",
        "    # We need to choose an optimizer. We'll use SGD, which is actually mini-batch SGD\n",
        "    optimizer = tf.keras.optimizers.SGD(learning_rate=learning_rate)\n",
        "\n",
        "    # Finally, compile the model. Select the accuracy metric. This finalizes the graph for training.\n",
        "    model.compile(\n",
        "        loss='binary_crossentropy',\n",
        "        optimizer=optimizer,\n",
        "        metrics=[metrics.binary_accuracy])\n",
        "\n",
        "    return model\n",
        "\n",
        "# Build Model\n",
        "model_tf = build_model(num_features=X_train.shape[1], learning_rate=.1)\n",
        "\n",
        "# Fit the model\n",
        "fit_tf = model_tf.fit(\n",
        "      x = X_train,\n",
        "      y = y_train,\n",
        "      validation_data=(X_val,y_val),\n",
        "      epochs=50,\n",
        "      batch_size=12,\n",
        "      verbose=0)\n",
        "\n",
        "# Compute aggregated accuracy\n",
        "print(f\"Accuracy train data,\\n {model_tf.evaluate(X_train, y_train, verbose=0)}\")\n",
        "print(f\"Accuracy test data,\\n {model_tf.evaluate(X_test, y_test, verbose=0)}\\n\")"
      ],
      "metadata": {
        "colab": {
          "base_uri": "https://localhost:8080/"
        },
        "id": "BvZjp1Z5EkuD",
        "outputId": "7d9793c6-4438-48af-bd76-d99eef3bfc2c"
      },
      "execution_count": null,
      "outputs": [
        {
          "output_type": "stream",
          "name": "stdout",
          "text": [
            "Accuracy train data,\n",
            " [1.1321755647659302, 0.8821548819541931]\n",
            "Accuracy test data,\n",
            " [1.7367297410964966, 0.8367003202438354]\n",
            "\n"
          ]
        }
      ]
    },
    {
      "cell_type": "markdown",
      "source": [
        "Test 2"
      ],
      "metadata": {
        "id": "WoNXQZgDGUgZ"
      }
    },
    {
      "cell_type": "code",
      "source": [
        "def build_model(num_features, learning_rate):\n",
        "    \"\"\"Build a neural network model using Keras.\n",
        "\n",
        "    Args:\n",
        "      num_features: The number of input features.\n",
        "      learning_rate: The desired learning rate for SGD.\n",
        "\n",
        "    Returns:\n",
        "      model: A tf.keras model (graph).\n",
        "    \"\"\"\n",
        "    tf.random.set_seed(1234)\n",
        "    np.random.seed(1234)\n",
        "    model = tf.keras.Sequential()\n",
        "\n",
        "    # First hidden layer with ReLU activation\n",
        "    model.add(tf.keras.layers.Dense(\n",
        "        units=64,                         # Number of neurons\n",
        "        input_shape=[num_features],       # Input dimension\n",
        "        activation='relu',                # Activation function\n",
        "        kernel_initializer='he_normal'    # He initialization for ReLU\n",
        "    ))\n",
        "\n",
        "\n",
        "    model.add(tf.keras.layers.Dense(\n",
        "        units=1,        # output dim\n",
        "        input_shape=[num_features],  # input dim\n",
        "        use_bias=True,               # use a bias (intercept) param\n",
        "        activation='sigmoid',\n",
        "        kernel_initializer=tf.ones_initializer,  # initialize params to 1\n",
        "        bias_initializer=tf.ones_initializer,    # initialize bias to 1\n",
        "    ))\n",
        "\n",
        "    # We need to choose an optimizer. We'll use SGD, which is actually mini-batch SGD\n",
        "    optimizer = tf.keras.optimizers.SGD(learning_rate=learning_rate)\n",
        "\n",
        "    # Finally, compile the model. Select the accuracy metric. This finalizes the graph for training.\n",
        "    model.compile(\n",
        "        loss='binary_crossentropy',\n",
        "        optimizer=optimizer,\n",
        "        metrics=[metrics.binary_accuracy])\n",
        "\n",
        "    return model\n",
        "\n",
        "# Build Model\n",
        "model_tf = build_model(num_features=X_train.shape[1], learning_rate=.1)\n",
        "\n",
        "# Fit the model\n",
        "fit_tf = model_tf.fit(\n",
        "      x = X_train,\n",
        "      y = y_train,\n",
        "      validation_data=(X_val,y_val),\n",
        "      epochs=50,\n",
        "      batch_size=12,\n",
        "      verbose=0)\n",
        "\n",
        "# Compute aggregated accuracy\n",
        "print(f\"Accuracy train data,\\n {model_tf.evaluate(X_train, y_train, verbose=0)}\")\n",
        "print(f\"Accuracy test data,\\n {model_tf.evaluate(X_test, y_test, verbose=0)}\\n\")"
      ],
      "metadata": {
        "colab": {
          "base_uri": "https://localhost:8080/"
        },
        "id": "hduhcqgdEkyL",
        "outputId": "fec987cb-235c-448e-a367-7af90b60a5fb"
      },
      "execution_count": null,
      "outputs": [
        {
          "output_type": "stream",
          "name": "stdout",
          "text": [
            "Accuracy train data,\n",
            " [0.6678066849708557, 0.6122334599494934]\n",
            "Accuracy test data,\n",
            " [0.6675856113433838, 0.6127946376800537]\n",
            "\n"
          ]
        }
      ]
    },
    {
      "cell_type": "markdown",
      "source": [
        "Test 3"
      ],
      "metadata": {
        "id": "i2ACr2HXGbrB"
      }
    },
    {
      "cell_type": "code",
      "source": [
        "def build_model(num_features, learning_rate):\n",
        "    \"\"\"Build a TF neural network model using Keras.\n",
        "\n",
        "    Args:\n",
        "      num_features: The number of input features.\n",
        "      learning_rate: The desired learning rate for SGD.\n",
        "\n",
        "    Returns:\n",
        "      model: A tf.keras model (graph).\n",
        "    \"\"\"\n",
        "    tf.random.set_seed(1234)\n",
        "    np.random.seed(1234)\n",
        "    model = tf.keras.Sequential()\n",
        "\n",
        "    # First hidden layer with ReLU activation\n",
        "    model.add(tf.keras.layers.Dense(\n",
        "        units=64,                         # Number of neurons\n",
        "        input_shape=[num_features],       # Input dimension\n",
        "        activation='relu',                # Activation function\n",
        "        kernel_initializer='he_normal'    # He initialization for ReLU\n",
        "    ))\n",
        "\n",
        "    # Second hidden layer with ReLU activation\n",
        "    model.add(tf.keras.layers.Dense(\n",
        "        units=32,                         # Number of neurons\n",
        "        activation='relu',                # Activation function\n",
        "        kernel_initializer='he_normal'    # He initialization for ReLU\n",
        "    ))\n",
        "\n",
        "    model.add(tf.keras.layers.Dense(\n",
        "        units=1,        # output dim\n",
        "        input_shape=[num_features],  # input dim\n",
        "        use_bias=True,               # use a bias (intercept) param\n",
        "        activation='sigmoid',\n",
        "        kernel_initializer=tf.ones_initializer,  # initialize params to 1\n",
        "        bias_initializer=tf.ones_initializer,    # initialize bias to 1\n",
        "    ))\n",
        "\n",
        "    # We need to choose an optimizer. We'll use SGD, which is actually mini-batch SGD\n",
        "    optimizer = tf.keras.optimizers.SGD(learning_rate=learning_rate)\n",
        "\n",
        "    # Finally, compile the model. Select the accuracy metric. This finalizes the graph for training.\n",
        "    model.compile(\n",
        "        loss='binary_crossentropy',\n",
        "        optimizer=optimizer,\n",
        "        metrics=[metrics.binary_accuracy])\n",
        "\n",
        "    return model\n",
        "\n",
        "# Build Model\n",
        "model_tf = build_model(num_features=X_train.shape[1], learning_rate=.1)\n",
        "\n",
        "# Fit the model\n",
        "fit_tf = model_tf.fit(\n",
        "      x = X_train,\n",
        "      y = y_train,\n",
        "      validation_data=(X_val,y_val),\n",
        "      epochs=50,\n",
        "      batch_size=12,\n",
        "      verbose=0)\n",
        "\n",
        "# Compute aggregated accuracy\n",
        "print(f\"Accuracy train data,\\n {model_tf.evaluate(X_train, y_train, verbose=0)}\")\n",
        "print(f\"Accuracy test data,\\n {model_tf.evaluate(X_test, y_test, verbose=0)}\\n\")"
      ],
      "metadata": {
        "colab": {
          "base_uri": "https://localhost:8080/"
        },
        "id": "ZNb3dxnkEk2l",
        "outputId": "a0d913d6-13a8-4c49-e31a-015637997a21"
      },
      "execution_count": null,
      "outputs": [
        {
          "output_type": "stream",
          "name": "stdout",
          "text": [
            "Accuracy train data,\n",
            " [0.6678066849708557, 0.6122334599494934]\n",
            "Accuracy test data,\n",
            " [0.6675640940666199, 0.6127946376800537]\n",
            "\n"
          ]
        }
      ]
    },
    {
      "cell_type": "markdown",
      "source": [
        "Test 4"
      ],
      "metadata": {
        "id": "6b5i4qsUGk9m"
      }
    },
    {
      "cell_type": "code",
      "source": [
        "def build_model(num_features, learning_rate):\n",
        "    \"\"\"Build a TF Logistic regression model using Keras.\n",
        "\n",
        "    Args:\n",
        "      num_features: The number of input features.\n",
        "      learning_rate: The desired learning rate for SGD.\n",
        "\n",
        "    Returns:\n",
        "      model: A tf.keras model (graph).\n",
        "    \"\"\"\n",
        "    tf.random.set_seed(1234)\n",
        "    np.random.seed(1234)\n",
        "    model = tf.keras.Sequential()\n",
        "\n",
        "    # First hidden layer with ReLU activation\n",
        "    model.add(tf.keras.layers.Dense(\n",
        "        units=128,                         # Number of neurons\n",
        "        input_shape=[num_features],       # Input dimension\n",
        "        activation='relu',                # Activation function\n",
        "        kernel_initializer='he_normal'    # He initialization for ReLU\n",
        "    ))\n",
        "\n",
        "    model.add(tf.keras.layers.Dense(\n",
        "        units=1,        # output dim\n",
        "        input_shape=[num_features],  # input dim\n",
        "        use_bias=True,               # use a bias (intercept) param\n",
        "        activation='sigmoid',\n",
        "        kernel_initializer=tf.ones_initializer,  # initialize params to 1\n",
        "        bias_initializer=tf.ones_initializer,    # initialize bias to 1\n",
        "    ))\n",
        "\n",
        "    # We need to choose an optimizer. We'll use SGD, which is actually mini-batch SGD\n",
        "    optimizer = tf.keras.optimizers.SGD(learning_rate=learning_rate)\n",
        "\n",
        "    # Finally, compile the model. Select the accuracy metric. This finalizes the graph for training.\n",
        "    model.compile(\n",
        "        loss='binary_crossentropy',\n",
        "        optimizer=optimizer,\n",
        "        metrics=[metrics.binary_accuracy])\n",
        "\n",
        "    return model\n",
        "\n",
        "# Build Model\n",
        "model_tf = build_model(num_features=X_train.shape[1], learning_rate=.1)\n",
        "\n",
        "# Fit the model\n",
        "fit_tf = model_tf.fit(\n",
        "      x = X_train,\n",
        "      y = y_train,\n",
        "      validation_data=(X_val,y_val),\n",
        "      epochs=50,\n",
        "      batch_size=12,\n",
        "      verbose=0)\n",
        "\n",
        "# Compute aggregated accuracy\n",
        "print(f\"Accuracy train data,\\n {model_tf.evaluate(X_train, y_train, verbose=0)}\")\n",
        "print(f\"Accuracy test data,\\n {model_tf.evaluate(X_test, y_test, verbose=0)}\\n\")"
      ],
      "metadata": {
        "colab": {
          "base_uri": "https://localhost:8080/"
        },
        "id": "dxZz7YI3Ek6T",
        "outputId": "f067ea4d-9c6e-4e85-c9d0-a38a51f541eb"
      },
      "execution_count": null,
      "outputs": [
        {
          "output_type": "stream",
          "name": "stdout",
          "text": [
            "Accuracy train data,\n",
            " [0.6678066849708557, 0.6122334599494934]\n",
            "Accuracy test data,\n",
            " [0.6675640940666199, 0.6127946376800537]\n",
            "\n"
          ]
        }
      ]
    },
    {
      "cell_type": "markdown",
      "source": [
        "Test 5"
      ],
      "metadata": {
        "id": "Zz1y6uIuGqHk"
      }
    },
    {
      "cell_type": "code",
      "source": [
        "def build_model(num_features, learning_rate):\n",
        "    \"\"\"Build a TF Logistic regression model using Keras.\n",
        "\n",
        "    Args:\n",
        "      num_features: The number of input features.\n",
        "      learning_rate: The desired learning rate for SGD.\n",
        "\n",
        "    Returns:\n",
        "      model: A tf.keras model (graph).\n",
        "    \"\"\"\n",
        "    tf.random.set_seed(1234)\n",
        "    np.random.seed(1234)\n",
        "    model = tf.keras.Sequential()\n",
        "\n",
        "    # First hidden layer with ReLU activation\n",
        "    model.add(tf.keras.layers.Dense(\n",
        "        units=256,                         # Number of neurons\n",
        "        input_shape=[num_features],       # Input dimension\n",
        "        activation='relu',                # Activation function\n",
        "        kernel_initializer='he_normal'    # He initialization for ReLU\n",
        "    ))\n",
        "\n",
        "    model.add(tf.keras.layers.Dense(\n",
        "        units=1,        # output dim\n",
        "        input_shape=[num_features],  # input dim\n",
        "        use_bias=True,               # use a bias (intercept) param\n",
        "        activation='sigmoid',\n",
        "        kernel_initializer=tf.ones_initializer,  # initialize params to 1\n",
        "        bias_initializer=tf.ones_initializer,    # initialize bias to 1\n",
        "    ))\n",
        "\n",
        "    # We need to choose an optimizer. We'll use SGD, which is actually mini-batch SGD\n",
        "    optimizer = tf.keras.optimizers.SGD(learning_rate=learning_rate)\n",
        "\n",
        "    # Finally, compile the model. Select the accuracy metric. This finalizes the graph for training.\n",
        "    model.compile(\n",
        "        loss='binary_crossentropy',\n",
        "        optimizer=optimizer,\n",
        "        metrics=[metrics.binary_accuracy])\n",
        "\n",
        "    return model\n",
        "\n",
        "# Build Model\n",
        "model_tf = build_model(num_features=X_train.shape[1], learning_rate=.1)\n",
        "\n",
        "# Fit the model\n",
        "fit_tf = model_tf.fit(\n",
        "      x = X_train,\n",
        "      y = y_train,\n",
        "      validation_data=(X_val,y_val),\n",
        "      epochs=50,\n",
        "      batch_size=12,\n",
        "      verbose=0)\n",
        "\n",
        "# Compute aggregated accuracy\n",
        "print(f\"Accuracy train data,\\n {model_tf.evaluate(X_train, y_train, verbose=0)}\")\n",
        "print(f\"Accuracy test data,\\n {model_tf.evaluate(X_test, y_test, verbose=0)}\\n\")"
      ],
      "metadata": {
        "colab": {
          "base_uri": "https://localhost:8080/"
        },
        "id": "KKTuIRdMEk-z",
        "outputId": "72ff00e1-10f7-4006-d10b-1f8c4c19bd9a"
      },
      "execution_count": null,
      "outputs": [
        {
          "output_type": "stream",
          "name": "stdout",
          "text": [
            "Accuracy train data,\n",
            " [0.6678066849708557, 0.6122334599494934]\n",
            "Accuracy test data,\n",
            " [0.668263852596283, 0.6127946376800537]\n",
            "\n"
          ]
        }
      ]
    },
    {
      "cell_type": "markdown",
      "source": [
        "Test 6"
      ],
      "metadata": {
        "id": "WwTC46TzGt7A"
      }
    },
    {
      "cell_type": "code",
      "source": [
        "# Fit the model\n",
        "fit_tf = model_tf.fit(\n",
        "      x = X_train,\n",
        "      y = y_train,\n",
        "      validation_data=(X_val,y_val),\n",
        "      epochs=50,\n",
        "      batch_size=24,\n",
        "      verbose=0)\n",
        "\n",
        "# Compute aggregated accuracy\n",
        "print(f\"Accuracy train data,\\n {model_tf.evaluate(X_train, y_train, verbose=0)}\")\n",
        "print(f\"Accuracy test data,\\n {model_tf.evaluate(X_test, y_test, verbose=0)}\\n\")"
      ],
      "metadata": {
        "colab": {
          "base_uri": "https://localhost:8080/"
        },
        "id": "sl--pBKEElC3",
        "outputId": "bba0b98b-3f9d-4be2-bd58-ea36484ebdd0"
      },
      "execution_count": null,
      "outputs": [
        {
          "output_type": "stream",
          "name": "stdout",
          "text": [
            "Accuracy train data,\n",
            " [0.6677398085594177, 0.6122334599494934]\n",
            "Accuracy test data,\n",
            " [0.6681896448135376, 0.6127946376800537]\n",
            "\n"
          ]
        }
      ]
    },
    {
      "cell_type": "markdown",
      "source": [
        "Test 7"
      ],
      "metadata": {
        "id": "05w9CZgAGvpP"
      }
    },
    {
      "cell_type": "code",
      "source": [
        "# Fit the model\n",
        "fit_tf = model_tf.fit(\n",
        "      x = X_train,\n",
        "      y = y_train,\n",
        "      validation_data=(X_val,y_val),\n",
        "      epochs=75,\n",
        "      batch_size=64,\n",
        "      verbose=0)\n",
        "\n",
        "# Compute aggregated accuracy\n",
        "print(f\"Accuracy train data,\\n {model_tf.evaluate(X_train, y_train, verbose=0)}\")\n",
        "print(f\"Accuracy test data,\\n {model_tf.evaluate(X_test, y_test, verbose=0)}\\n\")"
      ],
      "metadata": {
        "colab": {
          "base_uri": "https://localhost:8080/"
        },
        "id": "72L1QrL4Gs8a",
        "outputId": "7e06a6dd-b884-422d-d18b-1fbf8ed7d4a9"
      },
      "execution_count": null,
      "outputs": [
        {
          "output_type": "stream",
          "name": "stdout",
          "text": [
            "Accuracy train data,\n",
            " [0.6677396297454834, 0.6122334599494934]\n",
            "Accuracy test data,\n",
            " [0.6681895852088928, 0.6127946376800537]\n",
            "\n"
          ]
        }
      ]
    },
    {
      "cell_type": "markdown",
      "source": [
        "Test 8"
      ],
      "metadata": {
        "id": "SQGPbYH5Gw-n"
      }
    },
    {
      "cell_type": "code",
      "source": [
        "# Fit the model\n",
        "fit_tf = model_tf.fit(\n",
        "      x = X_train,\n",
        "      y = y_train,\n",
        "      validation_data=(X_val,y_val),\n",
        "      epochs=65,\n",
        "      batch_size=24,\n",
        "      verbose=0)\n",
        "\n",
        "# Compute aggregated accuracy\n",
        "print(f\"Accuracy train data,\\n {model_tf.evaluate(X_train, y_train, verbose=0)}\")\n",
        "print(f\"Accuracy test data,\\n {model_tf.evaluate(X_test, y_test, verbose=0)}\\n\")"
      ],
      "metadata": {
        "colab": {
          "base_uri": "https://localhost:8080/"
        },
        "id": "zqnSZ7suGtCY",
        "outputId": "d34e0554-46f2-4418-ec18-9ca09fb1e4a7"
      },
      "execution_count": null,
      "outputs": [
        {
          "output_type": "stream",
          "name": "stdout",
          "text": [
            "Accuracy train data,\n",
            " [0.6677398085594177, 0.6122334599494934]\n",
            "Accuracy test data,\n",
            " [0.6681896448135376, 0.6127946376800537]\n",
            "\n"
          ]
        }
      ]
    }
  ]
}